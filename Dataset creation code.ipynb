{
 "cells": [
  {
   "cell_type": "code",
   "execution_count": 4,
   "id": "5c349e39-5a3f-410c-8184-91b8d834e048",
   "metadata": {},
   "outputs": [
    {
     "name": "stdout",
     "output_type": "stream",
     "text": [
      "    price  competitor_price  demand   season  promotion  stock  rating  \\\n",
      "0  106.18            101.13   406.0  Regular          1    104    3.52   \n",
      "1  192.61            185.92   468.0  Holiday          0     84    4.70   \n",
      "2  159.80            146.85   365.0  Weekend          1     71    3.21   \n",
      "3  139.80            144.09   401.0  Regular          0     22    3.23   \n",
      "4   73.40             72.47   457.0  Weekend          0     96    4.70   \n",
      "\n",
      "   competitor_stock  \n",
      "0                 1  \n",
      "1                 1  \n",
      "2                 1  \n",
      "3                 1  \n",
      "4                 1  \n"
     ]
    }
   ],
   "source": [
    "import pandas as pd\n",
    "import numpy as np\n",
    "\n",
    "# Set random seed for reproducibility\n",
    "np.random.seed(42)\n",
    "\n",
    "\n",
    "num_samples = 10000\n",
    "\n",
    "# Generating synthetic fields\n",
    "price = np.random.uniform(50, 200, num_samples)  # Product price range selected $50 to $2000\n",
    "competitor_price = price + np.random.uniform(-20, 20, num_samples)  # Making sure that Competitor prices close to actual price\n",
    "season = np.random.choice(['Holiday', 'Weekend', 'Regular'], num_samples, p=[0.2, 0.3, 0.5])  # Seasonal variation\n",
    "promotion = np.random.choice([0, 1], num_samples, p=[0.6, 0.4])  # 40%  offer promoted products\n",
    "stock = np.random.randint(20, 200, num_samples)  # Stock availability (20-400 units)\n",
    "rating = np.random.uniform(3, 5, num_samples)  # Average customer ratings (3 to 5 stars)\n",
    "competitor_stock = np.random.choice([0, 1], num_samples, p=[0.3, 0.7])  # 70% competitors have stock\n",
    "\n",
    "# Define demand with some randomness\n",
    "demand = (\n",
    "    500  # Base demand\n",
    "    - 3 * price  # Decrease with price\n",
    "    + 2 * competitor_price  # Increase if competitors price higher\n",
    "    + np.random.choice([50, 100, 150], num_samples) * (season == 'Holiday')  # Holiday boost\n",
    "    + np.random.choice([20, 50], num_samples) * (season == 'Weekend')  # Weekend boost\n",
    "    + 20 * promotion  # Promotion effect\n",
    "    - 0.1 * stock  # Stock effect (slight)\n",
    "    + np.random.uniform(-50, 50, num_samples)  # Add some randomness\n",
    ")\n",
    "\n",
    "# Ensuring demand is non-negative\n",
    "demand = np.maximum(0, demand)\n",
    "\n",
    "# Creating DataFrame\n",
    "data = pd.DataFrame({\n",
    "    'price': price.round(2),\n",
    "    'competitor_price': competitor_price.round(2),\n",
    "    'demand': demand.round(0),\n",
    "    'season': season,\n",
    "    'promotion': promotion,\n",
    "    'stock': stock,\n",
    "    'rating': rating.round(2),\n",
    "    'competitor_stock': competitor_stock,\n",
    "})\n",
    "\n",
    "\n",
    "data.to_csv(\"Final_dataset.csv\", index=False)\n",
    "\n",
    "print(data.head())\n"
   ]
  },
  {
   "cell_type": "code",
   "execution_count": null,
   "id": "fd5ba57b-40dc-4ad7-bc98-d92e50c5cc7b",
   "metadata": {},
   "outputs": [],
   "source": []
  }
 ],
 "metadata": {
  "kernelspec": {
   "display_name": "Python 3 (ipykernel)",
   "language": "python",
   "name": "python3"
  },
  "language_info": {
   "codemirror_mode": {
    "name": "ipython",
    "version": 3
   },
   "file_extension": ".py",
   "mimetype": "text/x-python",
   "name": "python",
   "nbconvert_exporter": "python",
   "pygments_lexer": "ipython3",
   "version": "3.12.4"
  }
 },
 "nbformat": 4,
 "nbformat_minor": 5
}
