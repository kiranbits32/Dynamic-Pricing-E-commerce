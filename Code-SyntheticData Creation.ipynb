{
 "cells": [
  {
   "cell_type": "code",
   "execution_count": 7,
   "id": "2474045f-8006-40e6-89cb-5de20e9e1fd7",
   "metadata": {
    "scrolled": true
   },
   "outputs": [
    {
     "name": "stdout",
     "output_type": "stream",
     "text": [
      "     order_id  order_item_id product_id seller_id  shipping_limit_date   price\n",
      "0  0000000001              3  PID000001   SID2777  2023-01-01 00:00:00  177.25\n",
      "1  0000000002              4  PID000002   SID5766  2023-01-02 00:00:00  285.80\n",
      "2  0000000003              1  PID000003   SID5534  2023-01-03 00:00:00  185.24\n",
      "3  0000000004              3  PID000004   SID8399  2023-01-04 00:00:00   97.82\n",
      "4  0000000005              3  PID000005   SID4138  2023-01-05 00:00:00  129.43\n"
     ]
    }
   ],
   "source": [
    "import pandas as pd\n",
    "import numpy as np\n",
    "import random\n",
    "\n",
    "# Set random seed for reproducibility\n",
    "np.random.seed(42)\n",
    "\n",
    "# Generate synthetic data\n",
    "num_rows = 1200  # Number of rows to generate\n",
    "data = {\n",
    "    \"order_id\": [f\"{str(i).zfill(10)}\" for i in range(1, num_rows + 1)],\n",
    "    \"order_item_id\": np.random.randint(1, 5, size=num_rows),  # Random items per order (1-4 items)\n",
    "    \"product_id\": [f\"PID{str(i).zfill(6)}\" for i in range(1, num_rows + 1)],\n",
    "    \"seller_id\": [f\"SID{str(random.randint(1000, 9999))}\" for _ in range(num_rows)],\n",
    "    \"shipping_limit_date\": pd.date_range(\"2023-01-01\", periods=num_rows).strftime(\"%Y-%m-%d %H:%M:%S\"),\n",
    "    \"price\": np.round(np.random.uniform(10.0, 1000.0, num_rows), 2),  # Prices between $10 and $1000\n",
    "}\n",
    "\n",
    "# Convert to a DataFrame\n",
    "synthetic_data = pd.DataFrame(data)\n",
    "\n",
    "# Save to CSV (optional)\n",
    "synthetic_data.to_csv('synthetic_olist_data.csv', index=False)\n",
    "\n",
    "# Display a preview of the generated data\n",
    "print(synthetic_data.head())\n"
   ]
  },
  {
   "cell_type": "code",
   "execution_count": null,
   "id": "7e3b1511-e363-4002-9ccf-14b11a7186f2",
   "metadata": {},
   "outputs": [],
   "source": []
  },
  {
   "cell_type": "code",
   "execution_count": null,
   "id": "fcf7e14a-dd6e-42e0-b12f-cf72cc4b8dd5",
   "metadata": {},
   "outputs": [],
   "source": []
  },
  {
   "cell_type": "code",
   "execution_count": null,
   "id": "7c0a84ba-56fe-4075-bfb6-f997295b49eb",
   "metadata": {},
   "outputs": [],
   "source": []
  }
 ],
 "metadata": {
  "kernelspec": {
   "display_name": "Python 3 (ipykernel)",
   "language": "python",
   "name": "python3"
  },
  "language_info": {
   "codemirror_mode": {
    "name": "ipython",
    "version": 3
   },
   "file_extension": ".py",
   "mimetype": "text/x-python",
   "name": "python",
   "nbconvert_exporter": "python",
   "pygments_lexer": "ipython3",
   "version": "3.12.4"
  }
 },
 "nbformat": 4,
 "nbformat_minor": 5
}
