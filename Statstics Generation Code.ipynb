{
 "cells": [
  {
   "cell_type": "code",
   "execution_count": 1,
   "id": "7c79195b-a6bf-4b36-9438-d6d7b85b8ecc",
   "metadata": {},
   "outputs": [
    {
     "name": "stdout",
     "output_type": "stream",
     "text": [
      "               price\n",
      "count  112650.000000\n",
      "mean      120.653739\n",
      "std       183.633928\n",
      "min         0.850000\n",
      "25%        39.900000\n",
      "50%        74.990000\n",
      "75%       134.900000\n",
      "max      6735.000000\n"
     ]
    }
   ],
   "source": [
    "import pandas as pd\n",
    "\n",
    "# Loading into Dataset\n",
    "data = pd.read_csv('/Users/kirankumar/Downloads/archive-2/olist_order_items_dataset.csv')  \n",
    "\n",
    "pricing_data = data[['order_id', 'seller_id', 'price']]  \n",
    "\n",
    "# Generating statistics\n",
    "statistics = pricing_data.describe()\n",
    "\n",
    "# Printing the statistics\n",
    "print(statistics)\n"
   ]
  },
  {
   "cell_type": "code",
   "execution_count": null,
   "id": "c8dddac9-ef30-49ee-9f5d-104a3e7c5e69",
   "metadata": {},
   "outputs": [],
   "source": []
  }
 ],
 "metadata": {
  "kernelspec": {
   "display_name": "Python 3 (ipykernel)",
   "language": "python",
   "name": "python3"
  },
  "language_info": {
   "codemirror_mode": {
    "name": "ipython",
    "version": 3
   },
   "file_extension": ".py",
   "mimetype": "text/x-python",
   "name": "python",
   "nbconvert_exporter": "python",
   "pygments_lexer": "ipython3",
   "version": "3.12.4"
  }
 },
 "nbformat": 4,
 "nbformat_minor": 5
}
