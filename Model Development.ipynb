{
 "cells": [
  {
   "cell_type": "code",
   "execution_count": 6,
   "id": "fafc1dc9-d08b-4c7b-8c8a-09f332a2e0bd",
   "metadata": {},
   "outputs": [
    {
     "name": "stdout",
     "output_type": "stream",
     "text": [
      "    price  competitor_price  demand   season  promotion  stock  rating  \\\n",
      "0  106.18            101.13   406.0  Regular          1    104    3.52   \n",
      "1  192.61            185.92   468.0  Holiday          0     84    4.70   \n",
      "2  159.80            146.85   365.0  Weekend          1     71    3.21   \n",
      "3  139.80            144.09   401.0  Regular          0     22    3.23   \n",
      "4   73.40             72.47   457.0  Weekend          0     96    4.70   \n",
      "\n",
      "   competitor_stock  \n",
      "0                 1  \n",
      "1                 1  \n",
      "2                 1  \n",
      "3                 1  \n",
      "4                 1  \n",
      "Model Coefficients: [-3.04698355  2.05937408 -0.10588462 20.32045651 -0.15324758  0.30654408]\n",
      "Model Intercept: 529.8312736868801\n",
      "Mean Squared Error (MSE): 2570.3287442974984\n",
      "R² Score: 0.48335921001171256\n"
     ]
    }
   ],
   "source": [
    "import pandas as pd\n",
    "from sklearn.model_selection import train_test_split\n",
    "from sklearn.linear_model import LinearRegression\n",
    "from sklearn.metrics import mean_squared_error, r2_score\n",
    "\n",
    "# Loaded Final dataset\n",
    "data = pd.read_csv(\"/Users/Kirankumar/Final_dataset.csv\")\n",
    "print(data.head())\n",
    "\n",
    "# Features and target variable\n",
    "X = data[['price', 'competitor_price', 'stock', 'promotion', 'rating', 'competitor_stock']]\n",
    "y = data['demand']\n",
    "\n",
    "# Splitting the data into the training and testing sets\n",
    "X_train, X_test, y_train, y_test = train_test_split(X, y, test_size=0.2, random_state=42)\n",
    "\n",
    "\n",
    "# Initializing and train the Linear Regression model\n",
    "model = LinearRegression()\n",
    "model.fit(X_train, y_train)\n",
    "\n",
    "# Printing Coefficients and intercept\n",
    "print(\"Model Coefficients:\", model.coef_)\n",
    "print(\"Model Intercept:\", model.intercept_)\n",
    "\n",
    "# Predictions on the test data\n",
    "y_pred = model.predict(X_test)\n",
    "\n",
    "# Evaluating model performance\n",
    "mse = mean_squared_error(y_test, y_pred)\n",
    "r2 = r2_score(y_test, y_pred)\n",
    "\n",
    "print(\"Mean Squared Error (MSE):\", mse)\n",
    "print(\"R² Score:\", r2)\n",
    "\n"
   ]
  },
  {
   "cell_type": "code",
   "execution_count": null,
   "id": "badeab5e-f801-4569-a2ee-659919b6995f",
   "metadata": {},
   "outputs": [],
   "source": []
  }
 ],
 "metadata": {
  "kernelspec": {
   "display_name": "Python 3 (ipykernel)",
   "language": "python",
   "name": "python3"
  },
  "language_info": {
   "codemirror_mode": {
    "name": "ipython",
    "version": 3
   },
   "file_extension": ".py",
   "mimetype": "text/x-python",
   "name": "python",
   "nbconvert_exporter": "python",
   "pygments_lexer": "ipython3",
   "version": "3.12.4"
  }
 },
 "nbformat": 4,
 "nbformat_minor": 5
}
